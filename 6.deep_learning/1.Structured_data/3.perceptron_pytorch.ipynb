{
 "cells": [
  {
   "cell_type": "markdown",
   "metadata": {},
   "source": [
    "# Applying the perceptron theory\n",
    "\n",
    "Now, we are diving into the heart of it! Programming our first neural network using `pytorch`.\n",
    "\n",
    "Note, run all the cells every time to prevent unwanted errors.\n"
   ]
  },
  {
   "cell_type": "code",
   "execution_count": 71,
   "metadata": {},
   "outputs": [],
   "source": [
    "import pandas as pd\n",
    "import numpy as np\n",
    "import torch\n",
    "import torch.nn as nn\n",
    "from torch.autograd import Variable\n",
    "import torch.nn.functional as F\n",
    "from matplotlib import pyplot as plt\n",
    "%matplotlib inline\n"
   ]
  },
  {
   "cell_type": "code",
   "execution_count": 72,
   "metadata": {},
   "outputs": [
    {
     "name": "stdout",
     "output_type": "stream",
     "text": [
      "(150, 5)\n",
      "Iris-versicolor    50\n",
      "Iris-setosa        50\n",
      "Iris-virginica     50\n",
      "Name: species, dtype: int64\n"
     ]
    }
   ],
   "source": [
    "# Load dataset\n",
    "filename = \"./data/iris.csv\"\n",
    "df = pd.read_csv(filename)\n",
    "df = df.sample(frac=1).reset_index(drop=True) # Shuffle dataframe\n",
    "df.head()\n",
    "print(df.shape)\n",
    "print(df[\"species\"].value_counts())"
   ]
  },
  {
   "cell_type": "code",
   "execution_count": 73,
   "metadata": {},
   "outputs": [
    {
     "data": {
      "text/html": [
       "<div>\n",
       "<style scoped>\n",
       "    .dataframe tbody tr th:only-of-type {\n",
       "        vertical-align: middle;\n",
       "    }\n",
       "\n",
       "    .dataframe tbody tr th {\n",
       "        vertical-align: top;\n",
       "    }\n",
       "\n",
       "    .dataframe thead th {\n",
       "        text-align: right;\n",
       "    }\n",
       "</style>\n",
       "<table border=\"1\" class=\"dataframe\">\n",
       "  <thead>\n",
       "    <tr style=\"text-align: right;\">\n",
       "      <th></th>\n",
       "      <th>sepal_length</th>\n",
       "      <th>sepal_width</th>\n",
       "      <th>petal_length</th>\n",
       "      <th>petal_width</th>\n",
       "      <th>species</th>\n",
       "    </tr>\n",
       "  </thead>\n",
       "  <tbody>\n",
       "    <tr>\n",
       "      <th>0</th>\n",
       "      <td>5.6</td>\n",
       "      <td>3.0</td>\n",
       "      <td>4.1</td>\n",
       "      <td>1.3</td>\n",
       "      <td>Iris-versicolor</td>\n",
       "    </tr>\n",
       "    <tr>\n",
       "      <th>1</th>\n",
       "      <td>5.1</td>\n",
       "      <td>2.5</td>\n",
       "      <td>3.0</td>\n",
       "      <td>1.1</td>\n",
       "      <td>Iris-versicolor</td>\n",
       "    </tr>\n",
       "    <tr>\n",
       "      <th>2</th>\n",
       "      <td>5.0</td>\n",
       "      <td>3.3</td>\n",
       "      <td>1.4</td>\n",
       "      <td>0.2</td>\n",
       "      <td>Iris-setosa</td>\n",
       "    </tr>\n",
       "    <tr>\n",
       "      <th>3</th>\n",
       "      <td>6.4</td>\n",
       "      <td>3.2</td>\n",
       "      <td>5.3</td>\n",
       "      <td>2.3</td>\n",
       "      <td>Iris-virginica</td>\n",
       "    </tr>\n",
       "    <tr>\n",
       "      <th>4</th>\n",
       "      <td>6.7</td>\n",
       "      <td>2.5</td>\n",
       "      <td>5.8</td>\n",
       "      <td>1.8</td>\n",
       "      <td>Iris-virginica</td>\n",
       "    </tr>\n",
       "  </tbody>\n",
       "</table>\n",
       "</div>"
      ],
      "text/plain": [
       "   sepal_length  sepal_width  petal_length  petal_width          species\n",
       "0           5.6          3.0           4.1          1.3  Iris-versicolor\n",
       "1           5.1          2.5           3.0          1.1  Iris-versicolor\n",
       "2           5.0          3.3           1.4          0.2      Iris-setosa\n",
       "3           6.4          3.2           5.3          2.3   Iris-virginica\n",
       "4           6.7          2.5           5.8          1.8   Iris-virginica"
      ]
     },
     "execution_count": 73,
     "metadata": {},
     "output_type": "execute_result"
    }
   ],
   "source": [
    "df.head()"
   ]
  },
  {
   "cell_type": "code",
   "execution_count": 74,
   "metadata": {},
   "outputs": [
    {
     "data": {
      "text/plain": [
       "array(['Iris-versicolor', 'Iris-setosa', 'Iris-virginica'], dtype=object)"
      ]
     },
     "execution_count": 74,
     "metadata": {},
     "output_type": "execute_result"
    }
   ],
   "source": [
    "df['species'].unique()"
   ]
  },
  {
   "cell_type": "code",
   "execution_count": 75,
   "metadata": {},
   "outputs": [
    {
     "data": {
      "text/plain": [
       "array([[0, 1, 0],\n",
       "       [0, 1, 0],\n",
       "       [1, 0, 0],\n",
       "       [0, 0, 1],\n",
       "       [0, 0, 1]], dtype=uint8)"
      ]
     },
     "execution_count": 75,
     "metadata": {},
     "output_type": "execute_result"
    }
   ],
   "source": [
    "# Creating a test/train split\n",
    "train_test_split_fraction = 0.80\n",
    "split_index = int(df.shape[0] * train_test_split_fraction)\n",
    "df_train = df[:split_index]\n",
    "df_test = df[split_index:]\n",
    "\n",
    "target = pd.get_dummies(df['species']).values # One hot encode\n",
    "target[:5]"
   ]
  },
  {
   "cell_type": "code",
   "execution_count": 76,
   "metadata": {},
   "outputs": [
    {
     "name": "stdout",
     "output_type": "stream",
     "text": [
      "(120, 4)\n",
      "(30, 4)\n",
      "(120, 3)\n",
      "(30, 3)\n"
     ]
    }
   ],
   "source": [
    "# Selecting the features and the target\n",
    "X_train = df_train.drop('species', axis = 1).values\n",
    "X_test = df_test.drop('species', axis = 1).values\n",
    "\n",
    "y_train = target[:split_index]\n",
    "y_test = target[split_index:]\n",
    "print(X_train.shape)\n",
    "print(X_test.shape)\n",
    "print(y_train.shape)\n",
    "print(y_test.shape)"
   ]
  },
  {
   "cell_type": "code",
   "execution_count": 89,
   "metadata": {},
   "outputs": [
    {
     "name": "stdout",
     "output_type": "stream",
     "text": [
      "tensor([[0, 1, 0],\n",
      "        [1, 0, 0],\n",
      "        [0, 0, 1],\n",
      "        [1, 0, 0],\n",
      "        [0, 0, 1],\n",
      "        [0, 1, 0],\n",
      "        [0, 0, 1],\n",
      "        [0, 1, 0],\n",
      "        [0, 1, 0],\n",
      "        [1, 0, 0],\n",
      "        [1, 0, 0],\n",
      "        [0, 1, 0],\n",
      "        [0, 1, 0],\n",
      "        [1, 0, 0],\n",
      "        [0, 1, 0],\n",
      "        [0, 1, 0],\n",
      "        [0, 1, 0],\n",
      "        [0, 0, 1],\n",
      "        [0, 0, 1],\n",
      "        [1, 0, 0],\n",
      "        [0, 0, 1],\n",
      "        [0, 0, 1],\n",
      "        [0, 0, 1],\n",
      "        [0, 1, 0],\n",
      "        [1, 0, 0],\n",
      "        [0, 1, 0],\n",
      "        [1, 0, 0],\n",
      "        [0, 1, 0],\n",
      "        [0, 1, 0],\n",
      "        [0, 1, 0]])\n"
     ]
    }
   ],
   "source": [
    "print(y_test)"
   ]
  },
  {
   "cell_type": "markdown",
   "metadata": {},
   "source": [
    "Transform `X_train`, `y_train` and their test counterparts into pytorch tensors using `torch.tensor()`. Make sure to convert them to float32 with numpy."
   ]
  },
  {
   "cell_type": "code",
   "execution_count": null,
   "metadata": {},
   "outputs": [],
   "source": [
    "#Method 1\n",
    "# wrap up with Variable in pytorch\n",
    "#train_X = Variable(torch.Tensor(train_X).float())\n",
    "#test_X = Variable(torch.Tensor(test_X).float())\n",
    "#train_y = Variable(torch.Tensor(train_y).long())\n",
    "#test_y = Variable(torch.Tensor(test_y).long())"
   ]
  },
  {
   "cell_type": "code",
   "execution_count": 77,
   "metadata": {},
   "outputs": [],
   "source": [
    "#Method_2\n",
    "X_train = torch.FloatTensor(X_train)\n",
    "X_test = torch.FloatTensor(X_test)\n",
    "y_train = torch.LongTensor(y_train)\n",
    "y_test = torch.LongTensor(y_test)"
   ]
  },
  {
   "cell_type": "code",
   "execution_count": 78,
   "metadata": {},
   "outputs": [
    {
     "data": {
      "text/plain": [
       "tensor([[5.6000, 3.0000, 4.1000, 1.3000],\n",
       "        [5.1000, 2.5000, 3.0000, 1.1000],\n",
       "        [5.0000, 3.3000, 1.4000, 0.2000],\n",
       "        [6.4000, 3.2000, 5.3000, 2.3000],\n",
       "        [6.7000, 2.5000, 5.8000, 1.8000]])"
      ]
     },
     "execution_count": 78,
     "metadata": {},
     "output_type": "execute_result"
    }
   ],
   "source": [
    "X_train[:5]"
   ]
  },
  {
   "cell_type": "code",
   "execution_count": 95,
   "metadata": {},
   "outputs": [
    {
     "name": "stdout",
     "output_type": "stream",
     "text": [
      "tensor([1, 1, 0, 2, 2, 1, 0, 0, 2, 2, 2, 1, 2, 0, 2, 2, 0, 0, 0, 0, 2, 2, 1, 1,\n",
      "        0, 0, 1, 2, 1, 2, 2, 2, 1, 2, 2, 2, 0, 0, 2, 2, 2, 1, 0, 0, 2, 0, 1, 0,\n",
      "        0, 1, 0, 2, 0, 2, 1, 2, 0, 1, 0, 2, 1, 2, 2, 0, 2, 1, 2, 1, 2, 2, 2, 0,\n",
      "        2, 1, 2, 1, 1, 1, 1, 2, 0, 1, 0, 1, 2, 2, 1, 0, 1, 1, 0, 2, 0, 0, 2, 1,\n",
      "        2, 1, 0, 0, 0, 0, 0, 0, 1, 0, 0, 1, 0, 1, 2, 1, 0, 1, 0, 2, 1, 0, 1, 0])\n"
     ]
    }
   ],
   "source": [
    "y_train = (y_train == 1).nonzero(as_tuple=True)[1]\n",
    "print(y_train)"
   ]
  },
  {
   "cell_type": "code",
   "execution_count": 96,
   "metadata": {},
   "outputs": [
    {
     "name": "stdout",
     "output_type": "stream",
     "text": [
      "tensor([1, 0, 2, 0, 2, 1, 2, 1, 1, 0, 0, 1, 1, 0, 1, 1, 1, 2, 2, 0, 2, 2, 2, 1,\n",
      "        0, 1, 0, 1, 1, 1])\n"
     ]
    }
   ],
   "source": [
    "y_test = (y_test == 1).nonzero(as_tuple=True)[1]\n",
    "print(y_test)"
   ]
  },
  {
   "cell_type": "code",
   "execution_count": 79,
   "metadata": {},
   "outputs": [
    {
     "data": {
      "text/plain": [
       "tensor([[0, 1, 0],\n",
       "        [0, 1, 0],\n",
       "        [1, 0, 0],\n",
       "        [0, 0, 1],\n",
       "        [0, 0, 1]])"
      ]
     },
     "execution_count": 79,
     "metadata": {},
     "output_type": "execute_result"
    }
   ],
   "source": [
    "y_train[:5]"
   ]
  },
  {
   "cell_type": "markdown",
   "metadata": {},
   "source": [
    "Now that we have selected our train and test sets, we have to create the neural network architecture."
   ]
  },
  {
   "cell_type": "code",
   "execution_count": 80,
   "metadata": {},
   "outputs": [
    {
     "data": {
      "text/plain": [
       "3"
      ]
     },
     "execution_count": 80,
     "metadata": {},
     "output_type": "execute_result"
    }
   ],
   "source": [
    "nb_hidden_neurons = 10\n",
    "nb_classes = len(pd.unique(df['species']))\n",
    "nb_classes"
   ]
  },
  {
   "cell_type": "markdown",
   "metadata": {},
   "source": [
    "The `nn.Linear()` method defines a layer of neurons in the neural network.\n",
    "We want the network to have 10 neurons in the middle layers and 3 in the last layer (one for every class).\n",
    "\n",
    "Notice how we define the layers in `__init__()`, and we connect them in `forward()` .\n",
    "\n",
    "In the code below in the `__init__()` function,  complete the code for `self.layer_1`, `self.layer_2` , and `self.layer_3` using the `nn.Linear()` class to add the desired layers. *Hint: Make use of `nb_features` and `nb_hidden_neurons`. You can also refer to the architecture of the network shown in the image a few cells below*.\n",
    "\n",
    "In the `forward()` function, which is going to handle the forward pass of the neural network learning process, we will use the ReLU activation function for the first layers and for the last layer, we are going to use the Softmax activation function.\n",
    "We want you to assign the ReLU activation function to the variable `activation_function`. More information [here](https://pytorch.org/docs/stable/nn.html).\n",
    "Lastly, we want you to write the code to combine the layers to the input `x` and the output. *Hint: You can refer yourself to how the last layer code is written*.\n"
   ]
  },
  {
   "cell_type": "code",
   "execution_count": 81,
   "metadata": {},
   "outputs": [],
   "source": [
    "import torch.nn as nn\n",
    "\n",
    "class Network(nn.Module):\n",
    "\n",
    "    def __init__(self, nb_features):\n",
    "        \"\"\"Here we define the layers\n",
    "        \"\"\"\n",
    "\n",
    "        super().__init__()\n",
    "        \n",
    "        self.layer_1 = nn.Linear(nb_features,10) \n",
    "        self.layer_2 =  nn.Linear(10, 10) \n",
    "        self.layer_3 =  nn.Linear(10, 3) \n",
    "        self.relu = nn.ReLU()\n",
    "        \n",
    "\n",
    "    def forward(self,x):\n",
    "        \"\"\"Here we combine the layers\n",
    "        \"\"\"\n",
    "        \n",
    "        #activation_function = nn.ReLU()#TO COMPLETE \n",
    "        last_layer_activation = nn.Softmax(dim=1)\n",
    "        \n",
    "        output_first_layer = self.relu(self.layer_1(x)) #TO COMPLETE \n",
    "        output_second_layer = self.relu(self.layer_2(output_first_layer)) #TO COMPLETE\n",
    "        prediction = last_layer_activation(self.layer_3(output_second_layer))\n",
    "        return prediction"
   ]
  },
  {
   "cell_type": "markdown",
   "metadata": {},
   "source": []
  },
  {
   "cell_type": "code",
   "execution_count": 82,
   "metadata": {},
   "outputs": [
    {
     "data": {
      "text/plain": [
       "Network(\n",
       "  (layer_1): Linear(in_features=4, out_features=10, bias=True)\n",
       "  (layer_2): Linear(in_features=10, out_features=10, bias=True)\n",
       "  (layer_3): Linear(in_features=10, out_features=3, bias=True)\n",
       "  (relu): ReLU()\n",
       ")"
      ]
     },
     "execution_count": 82,
     "metadata": {},
     "output_type": "execute_result"
    }
   ],
   "source": [
    "my_nn = Network(nb_features=X_train.shape[1])\n",
    "my_nn"
   ]
  },
  {
   "cell_type": "markdown",
   "metadata": {},
   "source": [
    "If you did everything right, this should be the output of the previous call\n",
    "\n",
    "```\n",
    "Network(\n",
    "  (layer_1): Linear(in_features=4, out_features=10, bias=True)\n",
    "  (layer_2): Linear(in_features=10, out_features=10, bias=True)\n",
    "  (layer_3): Linear(in_features=10, out_features=3, bias=True)\n",
    ")\n",
    "```"
   ]
  },
  {
   "cell_type": "markdown",
   "metadata": {},
   "source": [
    "Now, we have done the architecture of the model. Right now, it does nothing. We have to make it learn.\n",
    "\n",
    "First, we'll need to define the `criterion` by which the cost if calculated.\n",
    "There are many possible losses to choose from (see #Additional reading material), but here we're going to choose the `MSELoss`.\n",
    "The piece of code that is going to compute the gradient and change the weights is called an `optimizer`.\n",
    "Again, there are many to choose from (see #Additional reading material), but here we are going to use the `Adam` optimizer with a `learning_rate` of `0.001`."
   ]
  },
  {
   "cell_type": "code",
   "execution_count": 83,
   "metadata": {},
   "outputs": [],
   "source": [
    "# creating our optimizer and loss function object\n",
    "criterion = nn.CrossEntropyLoss()\n",
    "learning_rate = 0.01 \n",
    "optimizer = torch.optim.Adam(my_nn.parameters(),lr=learning_rate)"
   ]
  },
  {
   "cell_type": "markdown",
   "metadata": {},
   "source": [
    "Now, we can start training the neural network. Below, the `training()` function handles all the necessary stuff for an efficient training process.\n",
    "The loops, the input and output getting, and the loss plotting are already taken care of.\n",
    "You just have to do the most important part of the training process, which is listed as a comment.\n",
    "\n",
    "You can run the function with the next cell, which will also plot a graph of the loss over the whole training."
   ]
  },
  {
   "cell_type": "code",
   "execution_count": 99,
   "metadata": {},
   "outputs": [],
   "source": [
    "def training(X_train, y_train, batch_size : int, nb_steps_loss_sum : int):\n",
    "    \"\"\" Train the neural network, feeding it `batch_size` at a time\n",
    "    and saving statistics every `nb_steps_loss_sum` steps.\n",
    "    \n",
    "    Arguments:\n",
    "    \n",
    "    - batch_size [int] : the number of input samples at each training step (called a batch)\n",
    "    - nb_steps_loss_sum [int] : the number of batches before saving the loss for plotting\n",
    "    \n",
    "    Returns:\n",
    "    - loss_list : [List[double]] : value of the loss every `nb_steps_loss_sum` steps\n",
    "    \"\"\"\n",
    "\n",
    "    loss_list = []\n",
    "    running_loss = 0\n",
    "    batch_nb = 0\n",
    "\n",
    "    for epoch in range(0,10): # Number of times to iterate through the complete dataset\n",
    "        for idx in range(0, X_train.shape[0], batch_size):\n",
    "            \n",
    "            # Get input and output\n",
    "            input_batch = X_train[idx:idx + batch_size]\n",
    "            target = y_train[idx:idx + batch_size]\n",
    "            \n",
    "            # TO COMPLETE:\n",
    "            optimizer.zero_grad() #zero gradient buffers\n",
    "            output_train = my_nn(X_train) #compute the forward pass\n",
    "            loss_train = criterion(output_train, y_train) #- compute the loss\n",
    "            loss_train.backward() # backpropagate\n",
    "            optimizer.step() #do a step\n",
    "          \n",
    "            \n",
    "            # Save the loss every `running_loss_steps` batches\n",
    "            running_loss += loss_train.item()\n",
    "            save_loss_condition = batch_nb % nb_steps_loss_sum == (nb_steps_loss_sum - 1)\n",
    "            if save_loss_condition:    \n",
    "                loss_list.append(running_loss)\n",
    "                running_loss = 0.0\n",
    "\n",
    "\n",
    "            batch_nb+= 1\n",
    "        \n",
    "    return loss_list\n"
   ]
  },
  {
   "cell_type": "code",
   "execution_count": 100,
   "metadata": {},
   "outputs": [
    {
     "data": {
      "image/png": "[encoded data removed]",
      "text/plain": [
       "<Figure size 432x288 with 1 Axes>"
      ]
     },
     "metadata": {
      "needs_background": "light"
     },
     "output_type": "display_data"
    }
   ],
   "source": [
    "nb_steps_loss_sum = 10\n",
    "loss = training(X_train, y_train, batch_size=1, nb_steps_loss_sum=nb_steps_loss_sum)\n",
    "\n",
    "# Plotting the loss over training\n",
    "plt.figure()\n",
    "plt.plot(range(0, len(loss)), loss)\n",
    "plt.xlabel(f\"Batches/{nb_steps_loss_sum}\")\n",
    "plt.ylabel(\"Loss\")\n",
    "plt.title(\"Training loss\")\n",
    "plt.show()\n",
    "plt.close()"
   ]
  },
  {
   "cell_type": "markdown",
   "metadata": {},
   "source": [
    "If everything went to plan, you should have a decreasing loss over time. Something similar to this:\n",
    "    \n",
    "![Training Loss](./assets/loss.png)"
   ]
  },
  {
   "cell_type": "markdown",
   "metadata": {},
   "source": [
    "The function below will compute the accuracy of the neural network. You have to complete the steps outlined."
   ]
  },
  {
   "cell_type": "code",
   "execution_count": 101,
   "metadata": {},
   "outputs": [
    {
     "ename": "IndentationError",
     "evalue": "expected an indented block (4044620145.py, line 17)",
     "output_type": "error",
     "traceback": [
      "\u001b[1;36m  File \u001b[1;32m\"C:\\Users\\Mate Kovacs\\AppData\\Local\\Temp\\ipykernel_2736\\4044620145.py\"\u001b[1;36m, line \u001b[1;32m17\u001b[0m\n\u001b[1;33m    accuracy = correct/total * 100\u001b[0m\n\u001b[1;37m    ^\u001b[0m\n\u001b[1;31mIndentationError\u001b[0m\u001b[1;31m:\u001b[0m expected an indented block\n"
     ]
    }
   ],
   "source": [
    "def computeScore(X, y):\n",
    "    correct = 0\n",
    "    total = 0\n",
    "    batch_size = 1\n",
    "    my_nn.eval()\n",
    "    with torch.no_grad():\n",
    "        for idx in range(0, X.shape[0], batch_size):\n",
    "            # TO COMPLETE:\n",
    "            # - get the `batch_size` number of input samples\n",
    "            # - compute the prediction of the neural network\n",
    "            # - get the max of the prediction (e.g. get the most likely class)\n",
    "            # This can be done using `torch.max`.\n",
    "            # - get the max of the target (e.g. correct class)\n",
    "            # - check if the prediction is correct and count it\n",
    "            # - count every sample\n",
    "            \n",
    "    accuracy = correct/total * 100\n",
    "    print(f\"Accuracy of the network on the {total} samples: {accuracy:.2f}%\")"
   ]
  },
  {
   "cell_type": "code",
   "execution_count": null,
   "metadata": {},
   "outputs": [
    {
     "ename": "NameError",
     "evalue": "name 'computeScore' is not defined",
     "output_type": "error",
     "traceback": [
      "\u001b[1;31m---------------------------------------------------------------------------\u001b[0m",
      "\u001b[1;31mNameError\u001b[0m                                 Traceback (most recent call last)",
      "\u001b[1;32m~\\AppData\\Local\\Temp\\ipykernel_2736\\346852855.py\u001b[0m in \u001b[0;36m<module>\u001b[1;34m\u001b[0m\n\u001b[1;32m----> 1\u001b[1;33m \u001b[0mcomputeScore\u001b[0m\u001b[1;33m(\u001b[0m\u001b[0mX_train\u001b[0m\u001b[1;33m,\u001b[0m \u001b[0my_train\u001b[0m\u001b[1;33m)\u001b[0m\u001b[1;33m\u001b[0m\u001b[1;33m\u001b[0m\u001b[0m\n\u001b[0m\u001b[0;32m      2\u001b[0m \u001b[0mcomputeScore\u001b[0m\u001b[1;33m(\u001b[0m\u001b[0mX_test\u001b[0m\u001b[1;33m,\u001b[0m \u001b[0my_test\u001b[0m\u001b[1;33m)\u001b[0m\u001b[1;33m\u001b[0m\u001b[1;33m\u001b[0m\u001b[0m\n",
      "\u001b[1;31mNameError\u001b[0m: name 'computeScore' is not defined"
     ]
    }
   ],
   "source": [
    "computeScore(X_train, y_train)\n",
    "computeScore(X_test, y_test)"
   ]
  },
  {
   "cell_type": "markdown",
   "metadata": {},
   "source": [
    "If you compute the score, and have done everything correctly (and you are lucky), you should have an accuracy of 90% and above.\n",
    "```\n",
    "Accuracy of the network on the 120 samples: 96.67%\n",
    "Accuracy of the network on the 30 samples: 96.67%\n",
    "```\n",
    "\n",
    "However, you might notice, if you repeat the runs, you might get totally different scores, even if all else stays the same.\n",
    "\n",
    "**Why does that happen ? Can you explain ?** *Hint: It might have something to do with degrees of freedom*"
   ]
  },
  {
   "cell_type": "markdown",
   "metadata": {},
   "source": [
    "> Explain here"
   ]
  },
  {
   "cell_type": "markdown",
   "metadata": {},
   "source": [
    "## Additional reading material\n",
    "[How to build a simple neural network in pytorch](https://pytorch.org/tutorials/beginner/blitz/neural_networks_tutorial.html)\n",
    "\n",
    "[Introduction to optimizers](https://algorithmia.com/blog/introduction-to-optimizers)\n",
    "\n",
    "[What loss function to choose](https://machinelearningmastery.com/how-to-choose-loss-functions-when-training-deep-learning-neural-networks/)\n",
    "\n",
    "[Visualizing optimizers (Interactive)](https://emiliendupont.github.io/2018/01/24/optimization-visualization/)\n",
    "\n",
    "[What are degrees of freedom?](https://machinelearningmastery.com/degrees-of-freedom-in-machine-learning/)"
   ]
  }
 ],
 "metadata": {
  "interpreter": {
   "hash": "b7c1164c0cf3adb350bd2b3b2a0242750f67844ef1088085a12aa9ac9bd003ff"
  },
  "kernelspec": {
   "display_name": "Python 3.7.13 ('pytorch')",
   "language": "python",
   "name": "python3"
  },
  "language_info": {
   "codemirror_mode": {
    "name": "ipython",
    "version": 3
   },
   "file_extension": ".py",
   "mimetype": "text/x-python",
   "name": "python",
   "nbconvert_exporter": "python",
   "pygments_lexer": "ipython3",
   "version": "3.7.13"
  }
 },
 "nbformat": 4,
 "nbformat_minor": 4
}
